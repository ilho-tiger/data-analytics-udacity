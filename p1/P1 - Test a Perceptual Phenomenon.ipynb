{
 "cells": [
  {
   "cell_type": "markdown",
   "metadata": {},
   "source": [
    "* Note: *italics* are the paragraphs I borrowed from the project descirptition."
   ]
  },
  {
   "cell_type": "markdown",
   "metadata": {},
   "source": [
    "# Stroop task\n",
    "*In a Stroop task, participants are presented with a list of words, with each word displayed in a\n",
    "color of ink. The participant’s task is to say out loud the color of the ink in which the word is\n",
    "printed. The task has two conditions: a congruent words condition, and an incongruent words\n",
    "condition. In the congruent words condition, the words being displayed are color words whose\n",
    "names match the colors in which they are printed: for example RED, BLUE. In the incongruent\n",
    "words condition, the words displayed are color words whose names do not match the colors in\n",
    "which they are printed: for example PURPLE, ORANGE. In each case, we measure the time it\n",
    "takes to name the ink colors in equally­sized lists. Each participant will go through and record a\n",
    "time from each condition.*"
   ]
  },
  {
   "cell_type": "code",
   "execution_count": 1,
   "metadata": {
    "collapsed": false
   },
   "outputs": [
    {
     "data": {
      "text/html": [
       "<style>\n",
       "table {float:left}\n",
       "</style>"
      ],
      "text/plain": [
       "<IPython.core.display.HTML object>"
      ]
     },
     "metadata": {},
     "output_type": "display_data"
    }
   ],
   "source": [
    "%%html\n",
    "<style>\n",
    "table {float:left}\n",
    "</style>"
   ]
  },
  {
   "cell_type": "markdown",
   "metadata": {},
   "source": [
    "## Data investigation\n",
    "### 1 - What is our independent variable? What is our dependent variable?\n",
    "  * The task consists of two parts: congruent words test, and incongruent words test. Each of these tests can be considered as two conditions test design. In this case our independent variable would be **whether we use congruent words or incongruent words for the test**.\n",
    "  * Also our dependent variable would be **the number of seconds (time measurement) to finish each tests** per each participants. \n",
    "  * As our independent variable is varying as a participant takes the whole test, the experimental design is **repeated measures design with two conditions**."
   ]
  },
  {
   "cell_type": "markdown",
   "metadata": {},
   "source": [
    "### 2 - What is an appropriate set of hypotheses for this task? What kind of statistical test do you expect to perform? Justify your choices.\n",
    "  * Let say the mean of the number of seconds it takes for the congruent words test be $\\bar{X_c}$ and one for the incongruent words test be $\\bar{X_i}$.\n",
    "  * With the independend variable and dependent variable stated above, we can set the null hypothesis $H_0$ and the alternative hypothesis $H_A$ as follows:\n",
    "    * $H_0: \\bar{X_c} - \\bar{X_i} = 0 $\n",
    "    * $H_A: \\bar{X_c} - \\bar{X_i} \\neq 0 $\n",
    "  \n",
    "  , so that $H_0$ represents there is no time difference between the time for congruent words test and incongruent words test, while $H_A$ represent the opposite. In this case we do not assume any directions as we are interested in differences, not which leads to faster test time than other. \n",
    "  \n",
    "  With these hypothesis, **two sample dependent t-test can be performed**. \n",
    "  \n",
    "  It needs to be t-test than z-test as we do not know about the population statistics but only sample statistics. It is two sample test as we have two different samples with each condition (congruent and incongruent). It is dependent since each participants for both test conditions are the same person, doing one test after another, thus they are not independent."
   ]
  },
  {
   "cell_type": "markdown",
   "metadata": {},
   "source": [
    "*Now it’s your chance to try out the Stroop task for yourself. Go to this link, which has a Java­\n",
    "based applet for performing the Stroop task. Record the times that you received on the task\n",
    "(you do not need to submit your times to the site.) Now, download this dataset which contains\n",
    "results from a number of participants in the task. Each row of the dataset contains the\n",
    "performance for one participant, with the first number their results on the congruent task and\n",
    "the second number their performance on the incongruent task.*"
   ]
  },
  {
   "cell_type": "markdown",
   "metadata": {},
   "source": [
    "Let's read the given data from [the link](https://www.google.com/url?q=https://drive.google.com/file/d/0B9Yf01UaIbUgQXpYb2NhZ29yX1U/view?usp%3Dsharing&sa=D&ust=1481322308972000&usg=AFQjCNGki-zewfEuKXItXfKZi3YxE0bBNA) provided on the project description. I downloaded the [stroopdata.csv](stroopdata.csv) file and put it on the same directory as this notebook. "
   ]
  },
  {
   "cell_type": "code",
   "execution_count": 2,
   "metadata": {
    "collapsed": false
   },
   "outputs": [
    {
     "name": "stdout",
     "output_type": "stream",
     "text": [
      "total 24 lines read\n"
     ]
    },
    {
     "data": {
      "text/html": [
       "<div>\n",
       "<table border=\"1\" class=\"dataframe\">\n",
       "  <thead>\n",
       "    <tr style=\"text-align: right;\">\n",
       "      <th></th>\n",
       "      <th>Congruent</th>\n",
       "      <th>Incongruent</th>\n",
       "    </tr>\n",
       "  </thead>\n",
       "  <tbody>\n",
       "    <tr>\n",
       "      <th>0</th>\n",
       "      <td>12.079</td>\n",
       "      <td>19.278</td>\n",
       "    </tr>\n",
       "    <tr>\n",
       "      <th>1</th>\n",
       "      <td>16.791</td>\n",
       "      <td>18.741</td>\n",
       "    </tr>\n",
       "    <tr>\n",
       "      <th>2</th>\n",
       "      <td>9.564</td>\n",
       "      <td>21.214</td>\n",
       "    </tr>\n",
       "    <tr>\n",
       "      <th>3</th>\n",
       "      <td>8.630</td>\n",
       "      <td>15.687</td>\n",
       "    </tr>\n",
       "    <tr>\n",
       "      <th>4</th>\n",
       "      <td>14.669</td>\n",
       "      <td>22.803</td>\n",
       "    </tr>\n",
       "  </tbody>\n",
       "</table>\n",
       "</div>"
      ],
      "text/plain": [
       "   Congruent  Incongruent\n",
       "0     12.079       19.278\n",
       "1     16.791       18.741\n",
       "2      9.564       21.214\n",
       "3      8.630       15.687\n",
       "4     14.669       22.803"
      ]
     },
     "execution_count": 2,
     "metadata": {},
     "output_type": "execute_result"
    }
   ],
   "source": [
    "import pandas\n",
    "import numpy\n",
    "from IPython.display import display\n",
    "\n",
    "data = pandas.read_csv('stroopdata.csv')\n",
    "print 'total {0} lines read'.format(numpy.shape(data)[0])\n",
    "data.head()"
   ]
  },
  {
   "cell_type": "markdown",
   "metadata": {},
   "source": [
    "### 3 - Report some descriptive statistics regarding this dataset. Include at least one measure of central tendency and at least one measure of variability.\n",
    "\n",
    "Let's get some descriptive statistics."
   ]
  },
  {
   "cell_type": "code",
   "execution_count": 3,
   "metadata": {
    "collapsed": false
   },
   "outputs": [
    {
     "name": "stdout",
     "output_type": "stream",
     "text": [
      "data size:\n",
      "Congruent      24\n",
      "Incongruent    24\n",
      "dtype: int64\n",
      "data medians:\n",
      "[ 14.3565  21.0175]\n",
      "data means:\n",
      "Congruent      14.051125\n",
      "Incongruent    22.015917\n",
      "dtype: float64\n",
      "data standard deviations:\n",
      "Congruent      3.559358\n",
      "Incongruent    4.797057\n",
      "dtype: float64\n",
      "mean difference\n",
      "-7.96479166667\n"
     ]
    }
   ],
   "source": [
    "ns = pandas.Series([len(data), len(data)], list(data.columns))\n",
    "medians = numpy.median(data, axis=0)\n",
    "means = numpy.mean(data, axis=0)\n",
    "stds = numpy.std(data, ddof=1)\n",
    "meanDiff = means[0] - means[1]\n",
    "\n",
    "print 'data size:'\n",
    "print ns\n",
    "print 'data medians:'\n",
    "print medians\n",
    "print 'data means:'\n",
    "print means\n",
    "print 'data standard deviations:'\n",
    "print stds\n",
    "print 'mean difference'\n",
    "print meanDiff"
   ]
  },
  {
   "cell_type": "markdown",
   "metadata": {},
   "source": [
    "Using above code, we can get data size, median values per test, mean values per test, and their standard deviations as follows: \n",
    "\n",
    "|        | Congruent | Incongruent |  \n",
    "|--------|-----------|-------------|\n",
    "| Size ($n$)  |        24 |     24      |\n",
    "| Median | 14.3565   | 21.0175     |\n",
    "| Mean ($\\bar{X}$)  | 14.051125 | 22.015917   |\n",
    "| Standard Deviations ($\\sigma$) | 3.559358 | 4.797057 |\n",
    "\n",
    "$$Therefore,$$\n",
    "\n",
    "$$n_c = 24,\\,n_i = 24$$\n",
    "$$\\bar{X_c} = 14.051125,\\,\\bar{X_i} = 22.015917$$\n",
    "$$\\sigma_c = 3.559358,\\,\\sigma_i = 4.797057$$\n",
    "\n",
    "$$\\bar{X_c} - \\bar{X_i} = -7.96479166667$$"
   ]
  },
  {
   "cell_type": "markdown",
   "metadata": {},
   "source": [
    "### 4 - Provide one or two visualizations that show the distribution of the sample data. Write one or two sentences noting what you observe about the plot or plots.\n",
    "Let's start with a simple plotting."
   ]
  },
  {
   "cell_type": "markdown",
   "metadata": {},
   "source": [
    "#### Graph 1. Time it takes to name the ink colors per test set"
   ]
  },
  {
   "cell_type": "code",
   "execution_count": 4,
   "metadata": {
    "collapsed": false
   },
   "outputs": [],
   "source": [
    "import matplotlib\n",
    "import matplotlib.pyplot as plt\n",
    "%matplotlib inline  "
   ]
  },
  {
   "cell_type": "code",
   "execution_count": 12,
   "metadata": {
    "collapsed": false,
    "scrolled": false
   },
   "outputs": [
    {
     "data": {
      "text/plain": [
       "<matplotlib.text.Text at 0xc397f98>"
      ]
     },
     "execution_count": 12,
     "metadata": {},
     "output_type": "execute_result"
    },
    {
     "data": {
      "image/png": "[encoded data removed]",
      "text/plain": [
       "<matplotlib.figure.Figure at 0xc4fa5f8>"
      ]
     },
     "metadata": {},
     "output_type": "display_data"
    }
   ],
   "source": [
    "plt.style.use(['seaborn-paper', 'seaborn-whitegrid', 'seaborn-pastel'])\n",
    "pl = data.plot(kind='bar', title='time it takes to name the ink colors')\n",
    "pl.set_xlabel('participant index')\n",
    "pl.set_ylabel('time to name the ink colors in second(s)')"
   ]
  },
  {
   "cell_type": "markdown",
   "metadata": {},
   "source": [
    "Clearly, this graph shows that for all 24 participants (index 0 to 23) they got finished the test **faster** for the congruent word sets than incongruent word sets, although the differences are vary per participants. This is as expected since the mismatch with the word and the color would make a participant to name its color harder. "
   ]
  },
  {
   "cell_type": "markdown",
   "metadata": {},
   "source": [
    "#### Graph 2. Histogram"
   ]
  },
  {
   "cell_type": "code",
   "execution_count": 28,
   "metadata": {
    "collapsed": false,
    "scrolled": false
   },
   "outputs": [
    {
     "data": {
      "text/plain": [
       "<matplotlib.text.Text at 0xf74f7f0>"
      ]
     },
     "execution_count": 28,
     "metadata": {},
     "output_type": "execute_result"
    },
    {
     "data": {
      "image/png": "[encoded data removed]",
      "text/plain": [
       "<matplotlib.figure.Figure at 0xf739ac8>"
      ]
     },
     "metadata": {},
     "output_type": "display_data"
    }
   ],
   "source": [
    "hist = data.hist(sharex=True, sharey=True)\n",
    "plt.suptitle('histogram on time to name the ink colors')"
   ]
  },
  {
   "cell_type": "markdown",
   "metadata": {},
   "source": [
    "This graph shows again, as like the above graph 1, that incongruent results are mostly larger than congruent results, which means in general it took more time to name the ink color when the word does not match with it. \n",
    "\n",
    "Also we can see, from above histogram, that both congruent and incongruent results are **postively skewed**."
   ]
  },
  {
   "cell_type": "markdown",
   "metadata": {},
   "source": [
    "### 5 - Now, perform the statistical test and report your results. What is your confidence level and your critical statistic value? Do you reject the null hypothesis or fail to reject it? Come to a conclusion in terms of the experiment task. Did the results match up with your expectations?"
   ]
  }
 ],
 "metadata": {
  "anaconda-cloud": {},
  "kernelspec": {
   "display_name": "Python [default]",
   "language": "python",
   "name": "python2"
  },
  "language_info": {
   "codemirror_mode": {
    "name": "ipython",
    "version": 2
   },
   "file_extension": ".py",
   "mimetype": "text/x-python",
   "name": "python",
   "nbconvert_exporter": "python",
   "pygments_lexer": "ipython2",
   "version": "2.7.12"
  }
 },
 "nbformat": 4,
 "nbformat_minor": 1
}
